{
  "nbformat": 4,
  "nbformat_minor": 0,
  "metadata": {
    "colab": {
      "name": "JuicedBaseball.ipynb",
      "provenance": [],
      "collapsed_sections": [],
      "toc_visible": true
    },
    "kernelspec": {
      "name": "python3",
      "display_name": "Python 3"
    }
  },
  "cells": [
    {
      "cell_type": "code",
      "metadata": {
        "id": "9nbQ6EM268Ee",
        "colab_type": "code",
        "colab": {}
      },
      "source": [
        "import pandas as pd\n",
        "import matplotlib.pyplot as plt\n",
        "import seaborn as sns"
      ],
      "execution_count": 0,
      "outputs": []
    },
    {
      "cell_type": "code",
      "metadata": {
        "id": "7p5teZlhshJm",
        "colab_type": "code",
        "colab": {}
      },
      "source": [
        "df_hrs = pdf_19= pd.read_excel(\"https://raw.githubusercontent.com/eglouberman/Is-the-MLB-juiced-/master/Data/total_hrs.csv.xlsx\")"
      ],
      "execution_count": 0,
      "outputs": []
    },
    {
      "cell_type": "code",
      "metadata": {
        "id": "x5DEJRwEt7Am",
        "colab_type": "code",
        "outputId": "be2aa7e5-1f84-407b-c814-250984d0269d",
        "colab": {
          "base_uri": "https://localhost:8080/",
          "height": 35
        }
      },
      "source": [
        "df_hrs.columns"
      ],
      "execution_count": 0,
      "outputs": [
        {
          "output_type": "execute_result",
          "data": {
            "text/plain": [
              "Index(['American League', 'National League', 'A.L. + N.L.', 'Year'], dtype='object')"
            ]
          },
          "metadata": {
            "tags": []
          },
          "execution_count": 7
        }
      ]
    },
    {
      "cell_type": "code",
      "metadata": {
        "id": "xh_BVRkME262",
        "colab_type": "code",
        "outputId": "73373332-5b6f-45b9-aa44-acbf4492aa6b",
        "colab": {
          "base_uri": "https://localhost:8080/",
          "height": 295
        }
      },
      "source": [
        "plt.plot(df_hrs[\"Year\"], df_hrs[\"A.L. + N.L.\"])\n",
        "plt.title(\"Homeruns over all time\")\n",
        "plt.xlabel(\"Year\")\n",
        "plt.ylabel(\"Homeruns\")\n",
        "plt.savefig(\"all_homeruns_over_time.png\")\n",
        "plt.show()"
      ],
      "execution_count": 0,
      "outputs": [
        {
          "output_type": "display_data",
          "data": {
            "image/png": "[encoded data removed]",
            "text/plain": [
              "<Figure size 432x288 with 1 Axes>"
            ]
          },
          "metadata": {
            "tags": []
          }
        }
      ]
    },
    {
      "cell_type": "code",
      "metadata": {
        "id": "q_Fu0L-9ycIw",
        "colab_type": "code",
        "colab": {}
      },
      "source": [
        "df_hrs[\"prev_hr\"] =pd.Series(df_hrs[\"A.L. + N.L.\"]).shift(-1)"
      ],
      "execution_count": 0,
      "outputs": []
    },
    {
      "cell_type": "code",
      "metadata": {
        "id": "V_VmkGNsxtgc",
        "colab_type": "code",
        "colab": {}
      },
      "source": [
        "df_hrs[\"deltas\"] = df_hrs[\"A.L. + N.L.\"] - df_hrs[\"prev_hr\"]"
      ],
      "execution_count": 0,
      "outputs": []
    },
    {
      "cell_type": "code",
      "metadata": {
        "id": "nmbok_MN2sUH",
        "colab_type": "code",
        "outputId": "50f409e7-2c41-4ac8-b8c2-a64fee8c716a",
        "colab": {
          "base_uri": "https://localhost:8080/",
          "height": 225
        }
      },
      "source": [
        "df_hrs[\"deltas\"]"
      ],
      "execution_count": 0,
      "outputs": [
        {
          "output_type": "execute_result",
          "data": {
            "text/plain": [
              "0        99.0\n",
              "1        21.0\n",
              "2         4.0\n",
              "3        -7.0\n",
              "4        75.0\n",
              "        ...  \n",
              "114    -701.0\n",
              "115    -495.0\n",
              "116     520.0\n",
              "117   -1191.0\n",
              "118       NaN\n",
              "Name: deltas, Length: 119, dtype: float64"
            ]
          },
          "metadata": {
            "tags": []
          },
          "execution_count": 11
        }
      ]
    },
    {
      "cell_type": "code",
      "metadata": {
        "id": "NNk-_QPZzQPq",
        "colab_type": "code",
        "outputId": "17ee41fc-16a3-4664-d2a0-27d605464eee",
        "colab": {
          "base_uri": "https://localhost:8080/",
          "height": 485
        }
      },
      "source": [
        "from matplotlib.colors import ListedColormap\n",
        "classes = list(df_hrs[\"Year\"][-5:].values)\n",
        "plt.figure(figsize=(6,8))\n",
        "sns.boxplot(y =df_hrs[\"deltas\"][:-5])\n",
        "size = 150\n",
        "plt.scatter(x = [0], y = df_hrs[\"deltas\"][-6:-5], color= \"blue\", label = \"2014-2015\", s= size)\n",
        "plt.scatter(x = [0], y = df_hrs[\"deltas\"][-5:-4], color= \"green\", label = \"2015-2016\", s= size)\n",
        "plt.scatter(x = [0], y = df_hrs[\"deltas\"][-4:-3], color= \"gold\", label = \"2016-2017\", s= size)\n",
        "plt.scatter(x = [0], y = df_hrs[\"deltas\"][-3:-2], color= \"magenta\", label = \"2017-2018\", s =size)\n",
        "plt.scatter(x = [0], y = df_hrs[\"deltas\"][-2:-1], color= \"red\", label = \"2018-2019\", s = size)\n",
        "plt.legend()\n",
        "plt.ylabel(\"Deltas\")\n",
        "plt.title(\"Homerun Deltas Calculated Each Year\")\n",
        "plt.savefig(\"homerun_deltas.png\")\n",
        "plt.show()"
      ],
      "execution_count": 0,
      "outputs": [
        {
          "output_type": "display_data",
          "data": {
            "image/png": "[encoded data removed]",
            "text/plain": [
              "<Figure size 432x576 with 1 Axes>"
            ]
          },
          "metadata": {
            "tags": []
          }
        }
      ]
    },
    {
      "cell_type": "code",
      "metadata": {
        "id": "TyqD6NgHt5DF",
        "colab_type": "code",
        "outputId": "106a709b-1941-419c-f1f2-d3e9e204d23d",
        "colab": {
          "base_uri": "https://localhost:8080/",
          "height": 281
        }
      },
      "source": [
        "plt.bar(x = df_hrs[\"Year\"][-5:].values,height = df_hrs[\"A.L. + N.L.\"][-5:].values)\n",
        "plt.title(\"Homeruns over time 15-19\")\n",
        "plt.savefig(\"homeruns_over_time15_19.png\")"
      ],
      "execution_count": 0,
      "outputs": [
        {
          "output_type": "display_data",
          "data": {
            "image/png": "[encoded data removed]",
            "text/plain": [
              "<Figure size 432x288 with 1 Axes>"
            ]
          },
          "metadata": {
            "tags": []
          }
        }
      ]
    },
    {
      "cell_type": "markdown",
      "metadata": {
        "id": "SklCsfVnCbdJ",
        "colab_type": "text"
      },
      "source": [
        "# Reading Home Run Data from baseball savant"
      ]
    },
    {
      "cell_type": "code",
      "metadata": {
        "id": "3mjQ7BuKBvjV",
        "colab_type": "code",
        "colab": {}
      },
      "source": [
        "df_12 = pd.read_csv(\"https://raw.githubusercontent.com/eglouberman/Is-the-MLB-juiced-/master/Data/savant_data_12.csv\")\n",
        "df_13 = pd.read_csv(\"https://raw.githubusercontent.com/eglouberman/Is-the-MLB-juiced-/master/Data/savant_data_13.csv\")\n",
        "df_14 = pd.read_csv(\"https://raw.githubusercontent.com/eglouberman/Is-the-MLB-juiced-/master/Data/savant_data_14.csv\")\n",
        "df_15 = pd.read_csv(\"https://raw.githubusercontent.com/eglouberman/Is-the-MLB-juiced-/master/Data/savant_data_15.csv\")\n",
        "df_16 = pd.read_csv(\"https://raw.githubusercontent.com/eglouberman/Is-the-MLB-juiced-/master/Data/savant_data_16.csv\")\n",
        "df_17 = pd.read_csv(\"https://raw.githubusercontent.com/eglouberman/Is-the-MLB-juiced-/master/Data/savant_data_17.csv\")\n",
        "df_18 = pd.read_csv(\"https://raw.githubusercontent.com/eglouberman/Is-the-MLB-juiced-/master/Data/savant_data_18.csv\")\n",
        "df_19 = pd.read_csv(\"https://raw.githubusercontent.com/eglouberman/Is-the-MLB-juiced-/master/Data/savant_data_19.csv\")"
      ],
      "execution_count": 0,
      "outputs": []
    },
    {
      "cell_type": "code",
      "metadata": {
        "id": "2Gc47xBzOnJo",
        "colab_type": "code",
        "outputId": "720938a1-d893-4024-e598-d2422cb5ea83",
        "colab": {
          "base_uri": "https://localhost:8080/",
          "height": 381
        }
      },
      "source": [
        "df_19.columns"
      ],
      "execution_count": 0,
      "outputs": [
        {
          "output_type": "execute_result",
          "data": {
            "text/plain": [
              "Index(['pitch_type', 'game_date', 'release_speed', 'release_pos_x',\n",
              "       'release_pos_z', 'player_name', 'batter', 'pitcher', 'events',\n",
              "       'description', 'spin_dir', 'spin_rate_deprecated',\n",
              "       'break_angle_deprecated', 'break_length_deprecated', 'zone', 'des',\n",
              "       'game_type', 'stand', 'p_throws', 'home_team', 'away_team', 'type',\n",
              "       'hit_location', 'bb_type', 'balls', 'strikes', 'game_year', 'pfx_x',\n",
              "       'pfx_z', 'plate_x', 'plate_z', 'on_3b', 'on_2b', 'on_1b',\n",
              "       'outs_when_up', 'inning', 'inning_topbot', 'hc_x', 'hc_y',\n",
              "       'tfs_deprecated', 'tfs_zulu_deprecated', 'fielder_2', 'umpire', 'sv_id',\n",
              "       'vx0', 'vy0', 'vz0', 'ax', 'ay', 'az', 'sz_top', 'sz_bot',\n",
              "       'hit_distance_sc', 'launch_speed', 'launch_angle', 'effective_speed',\n",
              "       'release_spin_rate', 'release_extension', 'game_pk', 'pitcher.1',\n",
              "       'fielder_2.1', 'fielder_3', 'fielder_4', 'fielder_5', 'fielder_6',\n",
              "       'fielder_7', 'fielder_8', 'fielder_9', 'release_pos_y',\n",
              "       'estimated_ba_using_speedangle', 'estimated_woba_using_speedangle',\n",
              "       'woba_value', 'woba_denom', 'babip_value', 'iso_value',\n",
              "       'launch_speed_angle', 'at_bat_number', 'pitch_number', 'pitch_name',\n",
              "       'home_score', 'away_score', 'bat_score', 'fld_score', 'post_away_score',\n",
              "       'post_home_score', 'post_bat_score', 'post_fld_score',\n",
              "       'if_fielding_alignment', 'of_fielding_alignment'],\n",
              "      dtype='object')"
            ]
          },
          "metadata": {
            "tags": []
          },
          "execution_count": 15
        }
      ]
    },
    {
      "cell_type": "markdown",
      "metadata": {
        "id": "olRzhcsAJuaI",
        "colab_type": "text"
      },
      "source": [
        ""
      ]
    },
    {
      "cell_type": "markdown",
      "metadata": {
        "id": "LIDANA5_Czv1",
        "colab_type": "text"
      },
      "source": [
        "Below, we can see the type of data that are within each column.\n",
        "What is the data we are looking at? We have captured all home run events"
      ]
    },
    {
      "cell_type": "code",
      "metadata": {
        "id": "xIlCkvycB87j",
        "colab_type": "code",
        "colab": {}
      },
      "source": [
        "df_list = [df_12, df_13, df_14, df_15, df_16, df_17, df_18, df_19]"
      ],
      "execution_count": 0,
      "outputs": []
    },
    {
      "cell_type": "code",
      "metadata": {
        "id": "RIy2_DMaCQTU",
        "colab_type": "code",
        "outputId": "a998465b-4a7c-41c6-dbdc-671b6bb0f6bb",
        "colab": {
          "base_uri": "https://localhost:8080/",
          "height": 581
        }
      },
      "source": [
        "df_19.head()"
      ],
      "execution_count": 0,
      "outputs": [
        {
          "output_type": "execute_result",
          "data": {
            "text/html": [
              "<div>\n",
              "<style scoped>\n",
              "    .dataframe tbody tr th:only-of-type {\n",
              "        vertical-align: middle;\n",
              "    }\n",
              "\n",
              "    .dataframe tbody tr th {\n",
              "        vertical-align: top;\n",
              "    }\n",
              "\n",
              "    .dataframe thead th {\n",
              "        text-align: right;\n",
              "    }\n",
              "</style>\n",
              "<table border=\"1\" class=\"dataframe\">\n",
              "  <thead>\n",
              "    <tr style=\"text-align: right;\">\n",
              "      <th></th>\n",
              "      <th>pitch_type</th>\n",
              "      <th>game_date</th>\n",
              "      <th>release_speed</th>\n",
              "      <th>release_pos_x</th>\n",
              "      <th>release_pos_z</th>\n",
              "      <th>player_name</th>\n",
              "      <th>batter</th>\n",
              "      <th>pitcher</th>\n",
              "      <th>events</th>\n",
              "      <th>description</th>\n",
              "      <th>spin_dir</th>\n",
              "      <th>spin_rate_deprecated</th>\n",
              "      <th>break_angle_deprecated</th>\n",
              "      <th>break_length_deprecated</th>\n",
              "      <th>zone</th>\n",
              "      <th>des</th>\n",
              "      <th>game_type</th>\n",
              "      <th>stand</th>\n",
              "      <th>p_throws</th>\n",
              "      <th>home_team</th>\n",
              "      <th>away_team</th>\n",
              "      <th>type</th>\n",
              "      <th>hit_location</th>\n",
              "      <th>bb_type</th>\n",
              "      <th>balls</th>\n",
              "      <th>strikes</th>\n",
              "      <th>game_year</th>\n",
              "      <th>pfx_x</th>\n",
              "      <th>pfx_z</th>\n",
              "      <th>plate_x</th>\n",
              "      <th>plate_z</th>\n",
              "      <th>on_3b</th>\n",
              "      <th>on_2b</th>\n",
              "      <th>on_1b</th>\n",
              "      <th>outs_when_up</th>\n",
              "      <th>inning</th>\n",
              "      <th>inning_topbot</th>\n",
              "      <th>hc_x</th>\n",
              "      <th>hc_y</th>\n",
              "      <th>tfs_deprecated</th>\n",
              "      <th>...</th>\n",
              "      <th>az</th>\n",
              "      <th>sz_top</th>\n",
              "      <th>sz_bot</th>\n",
              "      <th>hit_distance_sc</th>\n",
              "      <th>launch_speed</th>\n",
              "      <th>launch_angle</th>\n",
              "      <th>effective_speed</th>\n",
              "      <th>release_spin_rate</th>\n",
              "      <th>release_extension</th>\n",
              "      <th>game_pk</th>\n",
              "      <th>pitcher.1</th>\n",
              "      <th>fielder_2.1</th>\n",
              "      <th>fielder_3</th>\n",
              "      <th>fielder_4</th>\n",
              "      <th>fielder_5</th>\n",
              "      <th>fielder_6</th>\n",
              "      <th>fielder_7</th>\n",
              "      <th>fielder_8</th>\n",
              "      <th>fielder_9</th>\n",
              "      <th>release_pos_y</th>\n",
              "      <th>estimated_ba_using_speedangle</th>\n",
              "      <th>estimated_woba_using_speedangle</th>\n",
              "      <th>woba_value</th>\n",
              "      <th>woba_denom</th>\n",
              "      <th>babip_value</th>\n",
              "      <th>iso_value</th>\n",
              "      <th>launch_speed_angle</th>\n",
              "      <th>at_bat_number</th>\n",
              "      <th>pitch_number</th>\n",
              "      <th>pitch_name</th>\n",
              "      <th>home_score</th>\n",
              "      <th>away_score</th>\n",
              "      <th>bat_score</th>\n",
              "      <th>fld_score</th>\n",
              "      <th>post_away_score</th>\n",
              "      <th>post_home_score</th>\n",
              "      <th>post_bat_score</th>\n",
              "      <th>post_fld_score</th>\n",
              "      <th>if_fielding_alignment</th>\n",
              "      <th>of_fielding_alignment</th>\n",
              "    </tr>\n",
              "  </thead>\n",
              "  <tbody>\n",
              "    <tr>\n",
              "      <th>0</th>\n",
              "      <td>FF</td>\n",
              "      <td>2019-09-29</td>\n",
              "      <td>91.4</td>\n",
              "      <td>3.2415</td>\n",
              "      <td>5.8139</td>\n",
              "      <td>Grant Dayton</td>\n",
              "      <td>642086</td>\n",
              "      <td>594795</td>\n",
              "      <td>home_run</td>\n",
              "      <td>hit_into_play_score</td>\n",
              "      <td>NaN</td>\n",
              "      <td>NaN</td>\n",
              "      <td>NaN</td>\n",
              "      <td>NaN</td>\n",
              "      <td>1.0</td>\n",
              "      <td>Dominic Smith homers (11) on a fly ball to rig...</td>\n",
              "      <td>R</td>\n",
              "      <td>L</td>\n",
              "      <td>L</td>\n",
              "      <td>NYM</td>\n",
              "      <td>ATL</td>\n",
              "      <td>X</td>\n",
              "      <td>NaN</td>\n",
              "      <td>fly_ball</td>\n",
              "      <td>1</td>\n",
              "      <td>0</td>\n",
              "      <td>2019</td>\n",
              "      <td>0.7561</td>\n",
              "      <td>1.9033</td>\n",
              "      <td>-0.3072</td>\n",
              "      <td>3.1551</td>\n",
              "      <td>NaN</td>\n",
              "      <td>641645.0</td>\n",
              "      <td>501571.0</td>\n",
              "      <td>2</td>\n",
              "      <td>11</td>\n",
              "      <td>Bot</td>\n",
              "      <td>216.49</td>\n",
              "      <td>38.44</td>\n",
              "      <td>NaN</td>\n",
              "      <td>...</td>\n",
              "      <td>-9.0325</td>\n",
              "      <td>3.371</td>\n",
              "      <td>1.535</td>\n",
              "      <td>390.0</td>\n",
              "      <td>97.3</td>\n",
              "      <td>25.6</td>\n",
              "      <td>90.832</td>\n",
              "      <td>2383.0</td>\n",
              "      <td>6.302</td>\n",
              "      <td>566070</td>\n",
              "      <td>594795</td>\n",
              "      <td>465041.0</td>\n",
              "      <td>663586.0</td>\n",
              "      <td>645277.0</td>\n",
              "      <td>588751.0</td>\n",
              "      <td>621020.0</td>\n",
              "      <td>594807.0</td>\n",
              "      <td>571740.0</td>\n",
              "      <td>542364.0</td>\n",
              "      <td>54.1978</td>\n",
              "      <td>0.382</td>\n",
              "      <td>0.593</td>\n",
              "      <td>2.0</td>\n",
              "      <td>1</td>\n",
              "      <td>0</td>\n",
              "      <td>3</td>\n",
              "      <td>5</td>\n",
              "      <td>93</td>\n",
              "      <td>2</td>\n",
              "      <td>4-Seam Fastball</td>\n",
              "      <td>4</td>\n",
              "      <td>6</td>\n",
              "      <td>4</td>\n",
              "      <td>6</td>\n",
              "      <td>6</td>\n",
              "      <td>4</td>\n",
              "      <td>4</td>\n",
              "      <td>6</td>\n",
              "      <td>Strategic</td>\n",
              "      <td>Standard</td>\n",
              "    </tr>\n",
              "    <tr>\n",
              "      <th>1</th>\n",
              "      <td>FF</td>\n",
              "      <td>2019-09-29</td>\n",
              "      <td>93.5</td>\n",
              "      <td>-2.1276</td>\n",
              "      <td>6.2112</td>\n",
              "      <td>Walker Lockett</td>\n",
              "      <td>594807</td>\n",
              "      <td>621141</td>\n",
              "      <td>home_run</td>\n",
              "      <td>hit_into_play_score</td>\n",
              "      <td>NaN</td>\n",
              "      <td>NaN</td>\n",
              "      <td>NaN</td>\n",
              "      <td>NaN</td>\n",
              "      <td>5.0</td>\n",
              "      <td>Adam Duvall homers (10) on a fly ball to left ...</td>\n",
              "      <td>R</td>\n",
              "      <td>R</td>\n",
              "      <td>R</td>\n",
              "      <td>NYM</td>\n",
              "      <td>ATL</td>\n",
              "      <td>X</td>\n",
              "      <td>NaN</td>\n",
              "      <td>fly_ball</td>\n",
              "      <td>0</td>\n",
              "      <td>0</td>\n",
              "      <td>2019</td>\n",
              "      <td>-0.1703</td>\n",
              "      <td>0.9248</td>\n",
              "      <td>-0.2433</td>\n",
              "      <td>2.3995</td>\n",
              "      <td>NaN</td>\n",
              "      <td>NaN</td>\n",
              "      <td>NaN</td>\n",
              "      <td>1</td>\n",
              "      <td>11</td>\n",
              "      <td>Top</td>\n",
              "      <td>49.34</td>\n",
              "      <td>36.40</td>\n",
              "      <td>NaN</td>\n",
              "      <td>...</td>\n",
              "      <td>-19.7612</td>\n",
              "      <td>3.410</td>\n",
              "      <td>1.630</td>\n",
              "      <td>423.0</td>\n",
              "      <td>104.9</td>\n",
              "      <td>25.2</td>\n",
              "      <td>92.676</td>\n",
              "      <td>2507.0</td>\n",
              "      <td>6.014</td>\n",
              "      <td>566070</td>\n",
              "      <td>621141</td>\n",
              "      <td>621512.0</td>\n",
              "      <td>642086.0</td>\n",
              "      <td>605412.0</td>\n",
              "      <td>641645.0</td>\n",
              "      <td>642708.0</td>\n",
              "      <td>434658.0</td>\n",
              "      <td>624424.0</td>\n",
              "      <td>664059.0</td>\n",
              "      <td>54.4850</td>\n",
              "      <td>0.926</td>\n",
              "      <td>1.775</td>\n",
              "      <td>2.0</td>\n",
              "      <td>1</td>\n",
              "      <td>0</td>\n",
              "      <td>3</td>\n",
              "      <td>6</td>\n",
              "      <td>85</td>\n",
              "      <td>1</td>\n",
              "      <td>4-Seam Fastball</td>\n",
              "      <td>4</td>\n",
              "      <td>5</td>\n",
              "      <td>5</td>\n",
              "      <td>4</td>\n",
              "      <td>5</td>\n",
              "      <td>4</td>\n",
              "      <td>5</td>\n",
              "      <td>4</td>\n",
              "      <td>Infield shift</td>\n",
              "      <td>Standard</td>\n",
              "    </tr>\n",
              "    <tr>\n",
              "      <th>2</th>\n",
              "      <td>CU</td>\n",
              "      <td>2019-09-29</td>\n",
              "      <td>79.6</td>\n",
              "      <td>-1.9574</td>\n",
              "      <td>6.2977</td>\n",
              "      <td>Walker Lockett</td>\n",
              "      <td>588751</td>\n",
              "      <td>621141</td>\n",
              "      <td>home_run</td>\n",
              "      <td>hit_into_play_score</td>\n",
              "      <td>NaN</td>\n",
              "      <td>NaN</td>\n",
              "      <td>NaN</td>\n",
              "      <td>NaN</td>\n",
              "      <td>2.0</td>\n",
              "      <td>Adeiny Hechavarria homers (9) on a fly ball to...</td>\n",
              "      <td>R</td>\n",
              "      <td>R</td>\n",
              "      <td>R</td>\n",
              "      <td>NYM</td>\n",
              "      <td>ATL</td>\n",
              "      <td>X</td>\n",
              "      <td>NaN</td>\n",
              "      <td>fly_ball</td>\n",
              "      <td>3</td>\n",
              "      <td>2</td>\n",
              "      <td>2019</td>\n",
              "      <td>0.9823</td>\n",
              "      <td>-0.8014</td>\n",
              "      <td>-0.0701</td>\n",
              "      <td>2.9101</td>\n",
              "      <td>NaN</td>\n",
              "      <td>NaN</td>\n",
              "      <td>NaN</td>\n",
              "      <td>1</td>\n",
              "      <td>11</td>\n",
              "      <td>Top</td>\n",
              "      <td>26.01</td>\n",
              "      <td>53.19</td>\n",
              "      <td>NaN</td>\n",
              "      <td>...</td>\n",
              "      <td>-39.6499</td>\n",
              "      <td>3.270</td>\n",
              "      <td>1.540</td>\n",
              "      <td>415.0</td>\n",
              "      <td>101.4</td>\n",
              "      <td>31.1</td>\n",
              "      <td>78.777</td>\n",
              "      <td>2699.0</td>\n",
              "      <td>5.855</td>\n",
              "      <td>566070</td>\n",
              "      <td>621141</td>\n",
              "      <td>621512.0</td>\n",
              "      <td>642086.0</td>\n",
              "      <td>605412.0</td>\n",
              "      <td>641645.0</td>\n",
              "      <td>642708.0</td>\n",
              "      <td>434658.0</td>\n",
              "      <td>624424.0</td>\n",
              "      <td>664059.0</td>\n",
              "      <td>54.6449</td>\n",
              "      <td>0.624</td>\n",
              "      <td>1.235</td>\n",
              "      <td>2.0</td>\n",
              "      <td>1</td>\n",
              "      <td>0</td>\n",
              "      <td>3</td>\n",
              "      <td>6</td>\n",
              "      <td>84</td>\n",
              "      <td>7</td>\n",
              "      <td>Curveball</td>\n",
              "      <td>4</td>\n",
              "      <td>4</td>\n",
              "      <td>4</td>\n",
              "      <td>4</td>\n",
              "      <td>4</td>\n",
              "      <td>4</td>\n",
              "      <td>4</td>\n",
              "      <td>4</td>\n",
              "      <td>Standard</td>\n",
              "      <td>Standard</td>\n",
              "    </tr>\n",
              "    <tr>\n",
              "      <th>3</th>\n",
              "      <td>FF</td>\n",
              "      <td>2019-09-29</td>\n",
              "      <td>97.0</td>\n",
              "      <td>-1.9275</td>\n",
              "      <td>6.1780</td>\n",
              "      <td>Kelvin Herrera</td>\n",
              "      <td>500135</td>\n",
              "      <td>516969</td>\n",
              "      <td>home_run</td>\n",
              "      <td>hit_into_play_score</td>\n",
              "      <td>NaN</td>\n",
              "      <td>NaN</td>\n",
              "      <td>NaN</td>\n",
              "      <td>NaN</td>\n",
              "      <td>4.0</td>\n",
              "      <td>Ronny Rodriguez homers (14) on a fly ball to l...</td>\n",
              "      <td>R</td>\n",
              "      <td>R</td>\n",
              "      <td>R</td>\n",
              "      <td>CWS</td>\n",
              "      <td>DET</td>\n",
              "      <td>X</td>\n",
              "      <td>NaN</td>\n",
              "      <td>fly_ball</td>\n",
              "      <td>3</td>\n",
              "      <td>2</td>\n",
              "      <td>2019</td>\n",
              "      <td>-0.1244</td>\n",
              "      <td>1.2943</td>\n",
              "      <td>-0.6814</td>\n",
              "      <td>2.3918</td>\n",
              "      <td>NaN</td>\n",
              "      <td>NaN</td>\n",
              "      <td>NaN</td>\n",
              "      <td>1</td>\n",
              "      <td>9</td>\n",
              "      <td>Top</td>\n",
              "      <td>29.02</td>\n",
              "      <td>74.29</td>\n",
              "      <td>NaN</td>\n",
              "      <td>...</td>\n",
              "      <td>-13.7964</td>\n",
              "      <td>3.280</td>\n",
              "      <td>1.570</td>\n",
              "      <td>371.0</td>\n",
              "      <td>100.2</td>\n",
              "      <td>26.2</td>\n",
              "      <td>96.267</td>\n",
              "      <td>2252.0</td>\n",
              "      <td>5.784</td>\n",
              "      <td>567343</td>\n",
              "      <td>516969</td>\n",
              "      <td>641470.0</td>\n",
              "      <td>572365.0</td>\n",
              "      <td>570560.0</td>\n",
              "      <td>660162.0</td>\n",
              "      <td>664901.0</td>\n",
              "      <td>650391.0</td>\n",
              "      <td>641553.0</td>\n",
              "      <td>641477.0</td>\n",
              "      <td>54.7150</td>\n",
              "      <td>0.637</td>\n",
              "      <td>1.116</td>\n",
              "      <td>2.0</td>\n",
              "      <td>1</td>\n",
              "      <td>0</td>\n",
              "      <td>3</td>\n",
              "      <td>6</td>\n",
              "      <td>64</td>\n",
              "      <td>6</td>\n",
              "      <td>4-Seam Fastball</td>\n",
              "      <td>5</td>\n",
              "      <td>2</td>\n",
              "      <td>2</td>\n",
              "      <td>5</td>\n",
              "      <td>2</td>\n",
              "      <td>5</td>\n",
              "      <td>2</td>\n",
              "      <td>5</td>\n",
              "      <td>Standard</td>\n",
              "      <td>Standard</td>\n",
              "    </tr>\n",
              "    <tr>\n",
              "      <th>4</th>\n",
              "      <td>FF</td>\n",
              "      <td>2019-09-29</td>\n",
              "      <td>93.1</td>\n",
              "      <td>-1.2635</td>\n",
              "      <td>5.3810</td>\n",
              "      <td>Brad Peacock</td>\n",
              "      <td>642136</td>\n",
              "      <td>502748</td>\n",
              "      <td>home_run</td>\n",
              "      <td>hit_into_play_score</td>\n",
              "      <td>NaN</td>\n",
              "      <td>NaN</td>\n",
              "      <td>NaN</td>\n",
              "      <td>NaN</td>\n",
              "      <td>3.0</td>\n",
              "      <td>Matt Thaiss homers (8) on a fly ball to right ...</td>\n",
              "      <td>R</td>\n",
              "      <td>L</td>\n",
              "      <td>R</td>\n",
              "      <td>LAA</td>\n",
              "      <td>HOU</td>\n",
              "      <td>X</td>\n",
              "      <td>NaN</td>\n",
              "      <td>fly_ball</td>\n",
              "      <td>3</td>\n",
              "      <td>2</td>\n",
              "      <td>2019</td>\n",
              "      <td>-0.8004</td>\n",
              "      <td>1.4717</td>\n",
              "      <td>0.2781</td>\n",
              "      <td>2.9518</td>\n",
              "      <td>NaN</td>\n",
              "      <td>NaN</td>\n",
              "      <td>621493.0</td>\n",
              "      <td>2</td>\n",
              "      <td>6</td>\n",
              "      <td>Bot</td>\n",
              "      <td>225.56</td>\n",
              "      <td>58.06</td>\n",
              "      <td>NaN</td>\n",
              "      <td>...</td>\n",
              "      <td>-13.8415</td>\n",
              "      <td>3.180</td>\n",
              "      <td>1.570</td>\n",
              "      <td>405.0</td>\n",
              "      <td>101.9</td>\n",
              "      <td>28.7</td>\n",
              "      <td>92.266</td>\n",
              "      <td>2305.0</td>\n",
              "      <td>5.897</td>\n",
              "      <td>564814</td>\n",
              "      <td>502748</td>\n",
              "      <td>455117.0</td>\n",
              "      <td>649557.0</td>\n",
              "      <td>664702.0</td>\n",
              "      <td>647351.0</td>\n",
              "      <td>608686.0</td>\n",
              "      <td>596117.0</td>\n",
              "      <td>545350.0</td>\n",
              "      <td>663656.0</td>\n",
              "      <td>54.6029</td>\n",
              "      <td>0.724</td>\n",
              "      <td>1.414</td>\n",
              "      <td>2.0</td>\n",
              "      <td>1</td>\n",
              "      <td>0</td>\n",
              "      <td>3</td>\n",
              "      <td>6</td>\n",
              "      <td>59</td>\n",
              "      <td>10</td>\n",
              "      <td>4-Seam Fastball</td>\n",
              "      <td>1</td>\n",
              "      <td>8</td>\n",
              "      <td>1</td>\n",
              "      <td>8</td>\n",
              "      <td>8</td>\n",
              "      <td>1</td>\n",
              "      <td>1</td>\n",
              "      <td>8</td>\n",
              "      <td>Infield shift</td>\n",
              "      <td>Standard</td>\n",
              "    </tr>\n",
              "  </tbody>\n",
              "</table>\n",
              "<p>5 rows × 89 columns</p>\n",
              "</div>"
            ],
            "text/plain": [
              "  pitch_type   game_date  ...  if_fielding_alignment  of_fielding_alignment\n",
              "0         FF  2019-09-29  ...              Strategic               Standard\n",
              "1         FF  2019-09-29  ...          Infield shift               Standard\n",
              "2         CU  2019-09-29  ...               Standard               Standard\n",
              "3         FF  2019-09-29  ...               Standard               Standard\n",
              "4         FF  2019-09-29  ...          Infield shift               Standard\n",
              "\n",
              "[5 rows x 89 columns]"
            ]
          },
          "metadata": {
            "tags": []
          },
          "execution_count": 17
        }
      ]
    },
    {
      "cell_type": "code",
      "metadata": {
        "id": "TjYIpqoNDZ8o",
        "colab_type": "code",
        "outputId": "1265b154-4908-4456-fb99-bcb4397069c7",
        "colab": {
          "base_uri": "https://localhost:8080/",
          "height": 35
        }
      },
      "source": [
        "df_17[\"launch_angle\"].mean()"
      ],
      "execution_count": 0,
      "outputs": [
        {
          "output_type": "execute_result",
          "data": {
            "text/plain": [
              "28.074868938401128"
            ]
          },
          "metadata": {
            "tags": []
          },
          "execution_count": 18
        }
      ]
    },
    {
      "cell_type": "markdown",
      "metadata": {
        "id": "kT44k5OjGHua",
        "colab_type": "text"
      },
      "source": [
        "## Batting Metrics\n",
        "Let's explore some batting metrics. lower launch angle = ball travelling further. That is why it makes sense to see 2019 having more home runs hit in the 20-30 degree range."
      ]
    },
    {
      "cell_type": "code",
      "metadata": {
        "id": "DEEMbUeFEBvs",
        "colab_type": "code",
        "outputId": "a9f5e131-0e51-4845-b53e-17ca12e7fdcd",
        "colab": {
          "base_uri": "https://localhost:8080/",
          "height": 547
        }
      },
      "source": [
        "colors = [\"green\", \"blue\", \"yellow\", \"orange\", \"red\", \"purple\", \"pink\", \"gray\", \"brown\"]\n",
        "i = 0\n",
        "plt.figure(figsize= (20,8))\n",
        "for df in df_list[3:]:\n",
        "  try:\n",
        "    plt.subplot(1,4,i+1)\n",
        "    #plt.hist(df[\"launch_angle\"], alpha = 0.7, color = colors[i], label = str(int(i) + 2012))\n",
        "    sns.boxplot(y = \"launch_angle\", data = df, color = colors[i])\n",
        "    plt.title(str(int(i+3) + 2012))\n",
        "  except:\n",
        "    pass\n",
        "  i +=1\n",
        "\n",
        "plt.suptitle(\"Batting Launch ANGLE over time\", fontsize= 16)\n",
        "plt.savefig(\"Batting Launch ANGLE over time\")\n",
        "plt.show()\n",
        "#plt.hist(df_14[\"launch_angle\"], alpha = 0.8, color = \"yellow\", label = \"2014\")"
      ],
      "execution_count": 0,
      "outputs": [
        {
          "output_type": "display_data",
          "data": {
            "image/png": "[encoded data removed]",
            "text/plain": [
              "<Figure size 1440x576 with 4 Axes>"
            ]
          },
          "metadata": {
            "tags": []
          }
        }
      ]
    },
    {
      "cell_type": "markdown",
      "metadata": {
        "id": "gK9G_jQZSsmd",
        "colab_type": "text"
      },
      "source": [
        "So it looks like nothing really has changed here from pre 2017 onwards... The  boxplot distribution is about the same (launch angles fall within 25-30 degrees on average each year). "
      ]
    },
    {
      "cell_type": "markdown",
      "metadata": {
        "id": "qpqngGWwTUkq",
        "colab_type": "text"
      },
      "source": [
        "Okay, so what about launch speed? If the balls are going out faster on homerun hits, then either the players are stronger (unlikely), the pitchers are worse, the players are making better contact, or JUICED BALLS"
      ]
    },
    {
      "cell_type": "code",
      "metadata": {
        "id": "0fjAb-weTl_h",
        "colab_type": "code",
        "outputId": "2cc718fd-d3d8-480f-be1a-0e02ebc197eb",
        "colab": {
          "base_uri": "https://localhost:8080/",
          "height": 35
        }
      },
      "source": [
        "% matplotlib inline\n",
        "colors = [\"green\", \"blue\", \"yellow\", \"orange\", \"red\", \"purple\", \"pink\", \"gray\", \"brown\"]\n",
        "i = 0\n",
        "\n",
        "plt.figure(figsize= (20,8))\n",
        "for df in df_list[3:]:\n",
        "  try:\n",
        "    plt.subplot(1,4,i+1, sharey = ax1)\n",
        "    #plt.hist(df[\"launch_angle\"], alpha = 0.7, color = colors[i], label = str(int(i) + 2012))\n",
        "    sns.boxplot(y = \"launch_speed\", data = df, color = colors[i])\n",
        "    plt.title(str(int(i+3) + 2012))\n",
        "  except:\n",
        "    pass\n",
        "  i +=1\n",
        "plt.suptitle(\"Launch SPEED over time\", fontsize= 16)\n",
        "plt.savefig(\"Launch SPEED over time\")\n",
        "plt.show()"
      ],
      "execution_count": 0,
      "outputs": [
        {
          "output_type": "display_data",
          "data": {
            "text/plain": [
              "<Figure size 1440x576 with 0 Axes>"
            ]
          },
          "metadata": {
            "tags": []
          }
        }
      ]
    },
    {
      "cell_type": "markdown",
      "metadata": {
        "id": "qE4JI0YiUobo",
        "colab_type": "text"
      },
      "source": [
        "Ok, so everything looks the same here too. Not enough evidence to say that players are doing better over these years."
      ]
    },
    {
      "cell_type": "markdown",
      "metadata": {
        "id": "7vgd_CruG5sV",
        "colab_type": "text"
      },
      "source": [
        "## Pitching metrics\n",
        "Has pitching gotten worse over time? "
      ]
    },
    {
      "cell_type": "code",
      "metadata": {
        "id": "Wtx9TFfYAmFX",
        "colab_type": "code",
        "colab": {}
      },
      "source": [
        "pdf_15 = pd.read_csv(\"https://raw.githubusercontent.com/eglouberman/Is-the-MLB-juiced-/master/Data/baseball2015.csv\")\n",
        "pdf_16 = pd.read_csv(\"https://raw.githubusercontent.com/eglouberman/Is-the-MLB-juiced-/master/Data/baseball2016.csv\")\n",
        "pdf_17 = pd.read_csv(\"https://raw.githubusercontent.com/eglouberman/Is-the-MLB-juiced-/master/Data/baseball2017.csv\")\n",
        "pdf_18 = pd.read_csv(\"https://raw.githubusercontent.com/eglouberman/Is-the-MLB-juiced-/master/Data/baseball2018.csv\")\n",
        "pdf_19= pd.read_csv(\"https://raw.githubusercontent.com/eglouberman/Is-the-MLB-juiced-/master/Data/baseball2019.csv\")\n"
      ],
      "execution_count": 0,
      "outputs": []
    },
    {
      "cell_type": "code",
      "metadata": {
        "id": "FgccMmO13mVX",
        "colab_type": "code",
        "colab": {}
      },
      "source": [
        "pdfs = [pdf_15, pdf_16, pdf_17, pdf_18, pdf_19]"
      ],
      "execution_count": 0,
      "outputs": []
    },
    {
      "cell_type": "code",
      "metadata": {
        "id": "qDFz682x42IS",
        "colab_type": "code",
        "outputId": "7106165f-9aa8-4e8d-f7b2-30aa74121c27",
        "colab": {
          "base_uri": "https://localhost:8080/",
          "height": 173
        }
      },
      "source": [
        "pdf_15.columns"
      ],
      "execution_count": 0,
      "outputs": [
        {
          "output_type": "execute_result",
          "data": {
            "text/plain": [
              "Index(['pitches', 'player_id', 'player_name', 'total_pitches', 'pitch_percent',\n",
              "       'ba', 'iso', 'babip', 'slg', 'woba', 'xwoba', 'xba', 'hits', 'abs',\n",
              "       'launch_speed', 'launch_angle', 'spin_rate', 'velocity',\n",
              "       'effective_speed', 'whiffs', 'swings', 'takes', 'eff_min_vel',\n",
              "       'release_extension', 'pos3_int_start_distance',\n",
              "       'pos4_int_start_distance', 'pos5_int_start_distance',\n",
              "       'pos6_int_start_distance', 'pos7_int_start_distance',\n",
              "       'pos8_int_start_distance', 'pos9_int_start_distance'],\n",
              "      dtype='object')"
            ]
          },
          "metadata": {
            "tags": []
          },
          "execution_count": 23
        }
      ]
    },
    {
      "cell_type": "code",
      "metadata": {
        "id": "Jrct6ViV4Vpp",
        "colab_type": "code",
        "outputId": "f5006bad-f710-4619-8b37-1368eb3c0cfb",
        "colab": {
          "base_uri": "https://localhost:8080/",
          "height": 547
        }
      },
      "source": [
        "% matplotlib inline\n",
        "colors = [\"green\", \"blue\", \"yellow\", \"orange\", \"red\", \"purple\", \"pink\", \"gray\", \"brown\"]\n",
        "i = 0\n",
        "\n",
        "plt.figure(figsize= (20,8))\n",
        "for df in pdfs:\n",
        "  plt.subplot(1,5,i+1)\n",
        "  #plt.hist(df[\"launch_angle\"], alpha = 0.7, color = colors[i], label = str(int(i) + 2012))\n",
        "  sns.boxplot(y = \"whiffs\", data = df, color = colors[i])\n",
        "  plt.title(str(int(i) + 2015))\n",
        "  i +=1\n",
        "plt.suptitle(\"Whiffs over time\", fontsize= 16)\n",
        "plt.savefig(\"Whiffs over time\")\n",
        "plt.show()"
      ],
      "execution_count": 0,
      "outputs": [
        {
          "output_type": "display_data",
          "data": {
            "image/png": "[encoded data removed]",
            "text/plain": [
              "<Figure size 1440x576 with 5 Axes>"
            ]
          },
          "metadata": {
            "tags": []
          }
        }
      ]
    },
    {
      "cell_type": "code",
      "metadata": {
        "id": "kiis00Xz5X7I",
        "colab_type": "code",
        "outputId": "3abbdfe4-8fa2-401c-c84c-3992f4897062",
        "colab": {
          "base_uri": "https://localhost:8080/",
          "height": 547
        }
      },
      "source": [
        "% matplotlib inline\n",
        "import numpy as np\n",
        "colors = [\"green\", \"blue\", \"yellow\", \"orange\", \"red\", \"purple\", \"pink\", \"gray\", \"brown\"]\n",
        "i = 0\n",
        "\n",
        "plt.figure(figsize= (20,8))\n",
        "ax1 = plt.subplot(1,5,i+1)\n",
        "sns.boxplot(y = \"ba\", data = pdfs[0], color = colors[i])\n",
        "plt.clf()\n",
        "for df in pdfs:\n",
        "  plt.subplot(1,5,i+1, sharey = ax1)\n",
        "  \n",
        "  #plt.hist(df[\"launch_angle\"], alpha = 0.7, color = colors[i], label = str(int(i) + 2012))\n",
        "  sns.boxplot(y = \"ba\", data = df, color = colors[i])\n",
        "  plt.title(str(int(i) + 2015))\n",
        "  i +=1\n",
        "plt.suptitle(\"Batting average over time\", fontsize= 16)\n",
        "plt.savefig(\"Batting average over time\")\n",
        "plt.show()"
      ],
      "execution_count": 0,
      "outputs": [
        {
          "output_type": "display_data",
          "data": {
            "image/png": "[encoded data removed]",
            "text/plain": [
              "<Figure size 1440x576 with 5 Axes>"
            ]
          },
          "metadata": {
            "tags": []
          }
        }
      ]
    },
    {
      "cell_type": "code",
      "metadata": {
        "id": "KkJ2cMMD9l_u",
        "colab_type": "code",
        "outputId": "fe787f81-2482-4013-fe6e-3ddd37f24b26",
        "colab": {
          "base_uri": "https://localhost:8080/",
          "height": 547
        }
      },
      "source": [
        "% matplotlib inline\n",
        "import numpy as np\n",
        "colors = [\"green\", \"blue\", \"yellow\", \"orange\", \"red\", \"purple\", \"pink\", \"gray\", \"brown\"]\n",
        "i = 0\n",
        "\n",
        "plt.figure(figsize= (20,8))\n",
        "ax1 = plt.subplot(1,5,i+1)\n",
        "sns.boxplot(y = \"slg\", data = pdfs[0], color = colors[i])\n",
        "plt.clf()\n",
        "for df in pdfs:\n",
        "  plt.subplot(1,5,i+1, sharey = ax1)\n",
        "  \n",
        "  #plt.hist(df[\"launch_angle\"], alpha = 0.7, color = colors[i], label = str(int(i) + 2012))\n",
        "  sns.boxplot(y = \"slg\", data = df, color = colors[i])\n",
        "  plt.title(str(int(i) + 2015))\n",
        "  i +=1\n",
        "plt.suptitle(\"Slugging average over time\", fontsize= 16)\n",
        "plt.savefig(\"Slugging average over time\")\n",
        "plt.show()"
      ],
      "execution_count": 0,
      "outputs": [
        {
          "output_type": "display_data",
          "data": {
            "image/png": "[encoded data removed]",
            "text/plain": [
              "<Figure size 1440x576 with 5 Axes>"
            ]
          },
          "metadata": {
            "tags": []
          }
        }
      ]
    },
    {
      "cell_type": "code",
      "metadata": {
        "id": "KYnJHODW5zBP",
        "colab_type": "code",
        "outputId": "cf23e28e-e861-43a5-9298-8e0efa38676e",
        "colab": {
          "base_uri": "https://localhost:8080/",
          "height": 547
        }
      },
      "source": [
        "% matplotlib inline\n",
        "import numpy as np\n",
        "colors = [\"green\", \"blue\", \"yellow\", \"orange\", \"red\", \"purple\", \"pink\", \"gray\", \"brown\"]\n",
        "i = 0\n",
        "\n",
        "plt.figure(figsize= (20,8))\n",
        "ax1 = plt.subplot(1,5,i+1)\n",
        "sns.boxplot(y = \"launch_angle\", data = pdfs[0], color = colors[i])\n",
        "plt.clf()\n",
        "for df in pdfs:\n",
        "  plt.subplot(1,5,i+1, sharey = ax1)\n",
        "  \n",
        "  #plt.hist(df[\"launch_angle\"], alpha = 0.7, color = colors[i], label = str(int(i) + 2012))\n",
        "  sns.boxplot(y = \"launch_angle\", data = df, color = colors[i])\n",
        "  plt.title(str(int(i) + 2015))\n",
        "  i +=1\n",
        "plt.suptitle(\"Launch angle over time\", fontsize= 16)\n",
        "plt.savefig(\"Launch angle over time\")\n",
        "plt.show()"
      ],
      "execution_count": 0,
      "outputs": [
        {
          "output_type": "display_data",
          "data": {
            "image/png": "[encoded data removed]",
            "text/plain": [
              "<Figure size 1440x576 with 5 Axes>"
            ]
          },
          "metadata": {
            "tags": []
          }
        }
      ]
    },
    {
      "cell_type": "code",
      "metadata": {
        "id": "mek9cCXD7GUx",
        "colab_type": "code",
        "colab": {}
      },
      "source": [
        ""
      ],
      "execution_count": 0,
      "outputs": []
    },
    {
      "cell_type": "markdown",
      "metadata": {
        "id": "nws-i2EWISTO",
        "colab_type": "text"
      },
      "source": [
        ""
      ]
    },
    {
      "cell_type": "markdown",
      "metadata": {
        "id": "Owzqyj2aAa4M",
        "colab_type": "text"
      },
      "source": [
        "#Bar plot of average velocity each year"
      ]
    },
    {
      "cell_type": "code",
      "metadata": {
        "id": "CgtLxzLesfD6",
        "colab_type": "code",
        "outputId": "c35425bb-8358-4639-9b1e-b83bdbbd485a",
        "colab": {
          "base_uri": "https://localhost:8080/",
          "height": 547
        }
      },
      "source": [
        "% matplotlib inline\n",
        "import numpy as np\n",
        "colors = [\"green\", \"blue\", \"yellow\", \"orange\", \"red\", \"purple\", \"pink\", \"gray\", \"brown\"]\n",
        "i = 0\n",
        "\n",
        "plt.figure(figsize= (20,8))\n",
        "ax1 = plt.subplot(1,5,i+1)\n",
        "sns.boxplot(y = \"velocity\", data = pdfs[0], color = colors[i])\n",
        "plt.clf()\n",
        "for df in pdfs:\n",
        "  plt.subplot(1,5,i+1, sharey = ax1)\n",
        "  \n",
        "  #plt.hist(df[\"launch_angle\"], alpha = 0.7, color = colors[i], label = str(int(i) + 2012))\n",
        "  sns.boxplot(y = \"velocity\", data = df, color = colors[i])\n",
        "  plt.title(str(int(i) + 2015))\n",
        "  i +=1\n",
        "plt.suptitle(\"Average velocity over time\", fontsize= 16)\n",
        "plt.savefig(\"Average velocity over time\")\n",
        "plt.show()"
      ],
      "execution_count": 0,
      "outputs": [
        {
          "output_type": "display_data",
          "data": {
            "image/png": "[encoded data removed]",
            "text/plain": [
              "<Figure size 1440x576 with 5 Axes>"
            ]
          },
          "metadata": {
            "tags": []
          }
        }
      ]
    },
    {
      "cell_type": "code",
      "metadata": {
        "id": "vvOEJdUmEo3S",
        "colab_type": "code",
        "colab": {}
      },
      "source": [
        ""
      ],
      "execution_count": 0,
      "outputs": []
    }
  ]
}